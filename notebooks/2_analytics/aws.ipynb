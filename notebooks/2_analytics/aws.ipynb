{
 "cells": [
  {
   "cell_type": "markdown",
   "source": [
    "# Analyzing using Amazon Comprehend\n",
    "* Boto3: https://github.com/boto/boto3\n"
   ],
   "metadata": {
    "collapsed": false
   }
  },
  {
   "cell_type": "markdown",
   "source": [
    "## Install boto3\n"
   ],
   "metadata": {
    "collapsed": false
   }
  },
  {
   "cell_type": "code",
   "execution_count": null,
   "outputs": [],
   "source": [
    "!pip install boto3\n"
   ],
   "metadata": {
    "collapsed": false
   }
  },
  {
   "cell_type": "markdown",
   "source": [
    "## Imports\n"
   ],
   "metadata": {
    "collapsed": false
   }
  },
  {
   "cell_type": "code",
   "execution_count": 14,
   "outputs": [],
   "source": [
    "import boto3\n",
    "import os\n",
    "import json\n"
   ],
   "metadata": {
    "collapsed": false,
    "ExecuteTime": {
     "end_time": "2023-05-13T14:32:23.128757Z",
     "start_time": "2023-05-13T14:32:23.125977Z"
    }
   }
  },
  {
   "cell_type": "markdown",
   "source": [
    "## Examples\n",
    "Testing if boto3 is working\n"
   ],
   "metadata": {
    "collapsed": false
   }
  },
  {
   "cell_type": "code",
   "execution_count": 6,
   "outputs": [
    {
     "name": "stdout",
     "output_type": "stream",
     "text": [
      "Calling DetectSentiment\n",
      "{'Sentiment': 'POSITIVE', 'SentimentScore': {'Positive': 0.9814985394477844, 'Negative': 0.0009425642783753574, 'Neutral': 0.017363231629133224, 'Mixed': 0.0001956639316631481}, 'ResponseMetadata': {'RequestId': '9695dae8-8792-4e41-8eeb-f6c137451683', 'HTTPStatusCode': 200, 'HTTPHeaders': {'x-amzn-requestid': '9695dae8-8792-4e41-8eeb-f6c137451683', 'content-type': 'application/x-amz-json-1.1', 'content-length': '165', 'date': 'Sat, 13 May 2023 14:23:00 GMT'}, 'RetryAttempts': 0}}\n",
      "End of DetectSentiment\n",
      "\n"
     ]
    }
   ],
   "source": [
    "comprehend = boto3.client(service_name='comprehend')\n",
    "text = \"This is a great example of how to use Amazon Comprehend!\"\n",
    "\n",
    "print('Calling DetectSentiment')\n",
    "result = comprehend.detect_sentiment(Text=text, LanguageCode='en')\n",
    "print(result)\n",
    "print('End of DetectSentiment\\n')\n"
   ],
   "metadata": {
    "collapsed": false,
    "ExecuteTime": {
     "end_time": "2023-05-13T14:23:00.206887Z",
     "start_time": "2023-05-13T14:23:00.026863Z"
    }
   }
  },
  {
   "cell_type": "code",
   "execution_count": 7,
   "outputs": [
    {
     "data": {
      "text/plain": "{'Sentiment': 'POSITIVE',\n 'SentimentScore': {'Positive': 0.9814985394477844,\n  'Negative': 0.0009425642783753574,\n  'Neutral': 0.017363231629133224,\n  'Mixed': 0.0001956639316631481},\n 'ResponseMetadata': {'RequestId': '9695dae8-8792-4e41-8eeb-f6c137451683',\n  'HTTPStatusCode': 200,\n  'HTTPHeaders': {'x-amzn-requestid': '9695dae8-8792-4e41-8eeb-f6c137451683',\n   'content-type': 'application/x-amz-json-1.1',\n   'content-length': '165',\n   'date': 'Sat, 13 May 2023 14:23:00 GMT'},\n  'RetryAttempts': 0}}"
     },
     "execution_count": 7,
     "metadata": {},
     "output_type": "execute_result"
    }
   ],
   "source": [
    "result\n"
   ],
   "metadata": {
    "collapsed": false,
    "ExecuteTime": {
     "end_time": "2023-05-13T14:23:02.550902Z",
     "start_time": "2023-05-13T14:23:02.548334Z"
    }
   }
  },
  {
   "cell_type": "markdown",
   "source": [
    "## Sentiment Analysis\n"
   ],
   "metadata": {
    "collapsed": false
   }
  },
  {
   "cell_type": "markdown",
   "source": [
    "### Read in data"
   ],
   "metadata": {
    "collapsed": false
   }
  },
  {
   "cell_type": "code",
   "execution_count": 12,
   "outputs": [
    {
     "data": {
      "text/plain": "['/Users/joba/Documents/GitHub/lyrics-analysis/notebooks/2_analytics/../../data/processed/processing2/Drake.json',\n '/Users/joba/Documents/GitHub/lyrics-analysis/notebooks/2_analytics/../../data/processed/processing2/Alligatoah.json',\n '/Users/joba/Documents/GitHub/lyrics-analysis/notebooks/2_analytics/../../data/processed/processing2/BRKN.json',\n '/Users/joba/Documents/GitHub/lyrics-analysis/notebooks/2_analytics/../../data/processed/processing2/RIN.json',\n '/Users/joba/Documents/GitHub/lyrics-analysis/notebooks/2_analytics/../../data/processed/processing2/John Lennon.json',\n '/Users/joba/Documents/GitHub/lyrics-analysis/notebooks/2_analytics/../../data/processed/processing2/Udo Lindenberg.json',\n '/Users/joba/Documents/GitHub/lyrics-analysis/notebooks/2_analytics/../../data/processed/processing2/Kraftklub.json',\n '/Users/joba/Documents/GitHub/lyrics-analysis/notebooks/2_analytics/../../data/processed/processing2/Ed Sheeran.json',\n '/Users/joba/Documents/GitHub/lyrics-analysis/notebooks/2_analytics/../../data/processed/processing2/Linkin Park.json',\n '/Users/joba/Documents/GitHub/lyrics-analysis/notebooks/2_analytics/../../data/processed/processing2/Leoniden.json',\n '/Users/joba/Documents/GitHub/lyrics-analysis/notebooks/2_analytics/../../data/processed/processing2/Von Wegen Lisbeth.json',\n '/Users/joba/Documents/GitHub/lyrics-analysis/notebooks/2_analytics/../../data/processed/processing2/Green Day.json',\n '/Users/joba/Documents/GitHub/lyrics-analysis/notebooks/2_analytics/../../data/processed/processing2/Wolfgang Petry.json',\n '/Users/joba/Documents/GitHub/lyrics-analysis/notebooks/2_analytics/../../data/processed/processing2/Nena.json']"
     },
     "execution_count": 12,
     "metadata": {},
     "output_type": "execute_result"
    }
   ],
   "source": [
    "processing2_folder_path = os.path.join(os.getcwd(), '..', '..', 'data', 'processed', 'processing2')\n",
    "files = os.listdir(processing2_folder_path)\n",
    "full_paths = [os.path.join(processing2_folder_path, file) for file in files]"
   ],
   "metadata": {
    "collapsed": false,
    "ExecuteTime": {
     "end_time": "2023-05-13T14:28:49.357999Z",
     "start_time": "2023-05-13T14:28:49.353863Z"
    }
   }
  },
  {
   "cell_type": "markdown",
   "source": [
    "### Analyse all files and store to processing3 folder"
   ],
   "metadata": {
    "collapsed": false
   }
  },
  {
   "cell_type": "code",
   "execution_count": 13,
   "outputs": [
    {
     "name": "stdout",
     "output_type": "stream",
     "text": [
      "/Users/joba/Documents/GitHub/lyrics-analysis/notebooks/2_analytics/../../data/processed/processing2/Drake.json\n",
      "/Users/joba/Documents/GitHub/lyrics-analysis/notebooks/2_analytics/../../data/processed/processing2/Alligatoah.json\n",
      "/Users/joba/Documents/GitHub/lyrics-analysis/notebooks/2_analytics/../../data/processed/processing2/BRKN.json\n",
      "/Users/joba/Documents/GitHub/lyrics-analysis/notebooks/2_analytics/../../data/processed/processing2/RIN.json\n",
      "/Users/joba/Documents/GitHub/lyrics-analysis/notebooks/2_analytics/../../data/processed/processing2/John Lennon.json\n",
      "/Users/joba/Documents/GitHub/lyrics-analysis/notebooks/2_analytics/../../data/processed/processing2/Udo Lindenberg.json\n",
      "/Users/joba/Documents/GitHub/lyrics-analysis/notebooks/2_analytics/../../data/processed/processing2/Kraftklub.json\n",
      "/Users/joba/Documents/GitHub/lyrics-analysis/notebooks/2_analytics/../../data/processed/processing2/Ed Sheeran.json\n",
      "/Users/joba/Documents/GitHub/lyrics-analysis/notebooks/2_analytics/../../data/processed/processing2/Linkin Park.json\n",
      "/Users/joba/Documents/GitHub/lyrics-analysis/notebooks/2_analytics/../../data/processed/processing2/Leoniden.json\n",
      "/Users/joba/Documents/GitHub/lyrics-analysis/notebooks/2_analytics/../../data/processed/processing2/Von Wegen Lisbeth.json\n",
      "/Users/joba/Documents/GitHub/lyrics-analysis/notebooks/2_analytics/../../data/processed/processing2/Green Day.json\n",
      "/Users/joba/Documents/GitHub/lyrics-analysis/notebooks/2_analytics/../../data/processed/processing2/Wolfgang Petry.json\n",
      "/Users/joba/Documents/GitHub/lyrics-analysis/notebooks/2_analytics/../../data/processed/processing2/Nena.json\n"
     ]
    }
   ],
   "source": [
    "comprehend = boto3.client(service_name='comprehend')\n",
    "\n",
    "# iterate through all files\n",
    "for filepath in full_paths:\n",
    "    # open file\n",
    "    with open(filepath, 'r') as f:\n",
    "        # load songs\n",
    "        songs = json.load(f)\n",
    "\n",
    "        for song in songs:\n",
    "            lang = song['language']\n",
    "\n"
   ],
   "metadata": {
    "collapsed": false,
    "ExecuteTime": {
     "end_time": "2023-05-13T14:31:55.802664Z",
     "start_time": "2023-05-13T14:31:55.769885Z"
    }
   }
  },
  {
   "cell_type": "code",
   "execution_count": null,
   "outputs": [],
   "source": [],
   "metadata": {
    "collapsed": false
   }
  }
 ],
 "metadata": {
  "kernelspec": {
   "display_name": "Python 3",
   "language": "python",
   "name": "python3"
  },
  "language_info": {
   "codemirror_mode": {
    "name": "ipython",
    "version": 2
   },
   "file_extension": ".py",
   "mimetype": "text/x-python",
   "name": "python",
   "nbconvert_exporter": "python",
   "pygments_lexer": "ipython2",
   "version": "2.7.6"
  }
 },
 "nbformat": 4,
 "nbformat_minor": 0
}

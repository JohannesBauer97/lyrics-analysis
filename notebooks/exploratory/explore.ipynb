{
 "cells": [
  {
   "cell_type": "markdown",
   "source": [
    "# Explore the data\n"
   ],
   "metadata": {
    "collapsed": false
   }
  },
  {
   "cell_type": "markdown",
   "source": [
    "## General initial steps"
   ],
   "metadata": {
    "collapsed": false
   }
  },
  {
   "cell_type": "code",
   "execution_count": 1,
   "outputs": [
    {
     "data": {
      "text/plain": "['/Users/joba/Documents/GitHub/lyrics-analysis/data/processed/processing1/Drake.json',\n '/Users/joba/Documents/GitHub/lyrics-analysis/data/processed/processing1/Alligatoah.json',\n '/Users/joba/Documents/GitHub/lyrics-analysis/data/processed/processing1/BRKN.json',\n '/Users/joba/Documents/GitHub/lyrics-analysis/data/processed/processing1/RIN.json',\n '/Users/joba/Documents/GitHub/lyrics-analysis/data/processed/processing1/John Lennon.json',\n '/Users/joba/Documents/GitHub/lyrics-analysis/data/processed/processing1/Udo Lindenberg.json',\n '/Users/joba/Documents/GitHub/lyrics-analysis/data/processed/processing1/Kraftklub.json',\n '/Users/joba/Documents/GitHub/lyrics-analysis/data/processed/processing1/Ed Sheeran.json',\n '/Users/joba/Documents/GitHub/lyrics-analysis/data/processed/processing1/Linkin Park.json',\n '/Users/joba/Documents/GitHub/lyrics-analysis/data/processed/processing1/Leoniden.json',\n '/Users/joba/Documents/GitHub/lyrics-analysis/data/processed/processing1/Von Wegen Lisbeth.json',\n '/Users/joba/Documents/GitHub/lyrics-analysis/data/processed/processing1/Green Day.json',\n '/Users/joba/Documents/GitHub/lyrics-analysis/data/processed/processing1/Wolfgang Petry.json',\n '/Users/joba/Documents/GitHub/lyrics-analysis/data/processed/processing1/Nena.json']"
     },
     "execution_count": 1,
     "metadata": {},
     "output_type": "execute_result"
    }
   ],
   "source": [
    "import os\n",
    "\n",
    "processing1_folder_path = os.path.abspath(os.path.join(os.getcwd(), '..', '..', 'data', 'processed', 'processing1'))\n",
    "file_names = os.listdir(processing1_folder_path)\n",
    "file_paths = [os.path.join(processing1_folder_path, file) for file in file_names]\n",
    "\n",
    "file_paths\n"
   ],
   "metadata": {
    "collapsed": false,
    "ExecuteTime": {
     "end_time": "2023-05-13T12:14:59.375529Z",
     "start_time": "2023-05-13T12:14:59.352043Z"
    }
   }
  },
  {
   "cell_type": "markdown",
   "source": [
    "## General information about the data"
   ],
   "metadata": {
    "collapsed": false
   }
  },
  {
   "cell_type": "markdown",
   "source": [
    "### Artist"
   ],
   "metadata": {
    "collapsed": false
   }
  },
  {
   "cell_type": "code",
   "execution_count": 7,
   "outputs": [
    {
     "name": "stdout",
     "output_type": "stream",
     "text": [
      "Number of artists: 14\n",
      "Number of songs for Drake: 513\n",
      "Number of songs for Alligatoah: 240\n",
      "Number of songs for BRKN: 58\n",
      "Number of songs for RIN: 95\n",
      "Number of songs for John Lennon: 238\n",
      "Number of songs for Udo Lindenberg: 417\n",
      "Number of songs for Kraftklub: 67\n",
      "Number of songs for Ed Sheeran: 266\n",
      "Number of songs for Linkin Park: 360\n",
      "Number of songs for Leoniden: 45\n",
      "Number of songs for Von Wegen Lisbeth: 54\n",
      "Number of songs for Green Day: 349\n",
      "Number of songs for Wolfgang Petry: 266\n",
      "Number of songs for Nena: 415\n",
      "Number of all songs: 3383\n"
     ]
    }
   ],
   "source": [
    "import json\n",
    "\n",
    "# Artist count and names\n",
    "artist_count = len(file_names)\n",
    "artist_names = [file_name.split('.')[0] for file_name in file_names]\n",
    "print(f'Number of artists: {artist_count}')\n",
    "\n",
    "song_count = 0\n",
    "# Number of songs per artist\n",
    "for file_path in file_paths:\n",
    "    with open(file_path, 'r') as file:\n",
    "        artist = json.load(file)\n",
    "        print(f'Number of songs for {artist[0][\"artist\"]}: {len(artist)}')\n",
    "        song_count += len(artist)\n",
    "\n",
    "print(f'Number of all songs: {song_count}')\n"
   ],
   "metadata": {
    "collapsed": false,
    "ExecuteTime": {
     "end_time": "2023-05-13T12:25:24.285907Z",
     "start_time": "2023-05-13T12:25:24.259307Z"
    }
   }
  },
  {
   "cell_type": "markdown",
   "source": [
    "### Lyrics\n"
   ],
   "metadata": {
    "collapsed": false
   }
  },
  {
   "cell_type": "code",
   "execution_count": 9,
   "outputs": [
    {
     "name": "stdout",
     "output_type": "stream",
     "text": [
      "Length of lyrics for Drake: 1205823\n",
      "Length of lyrics for Alligatoah: 571920\n",
      "Length of lyrics for BRKN: 114281\n",
      "Length of lyrics for RIN: 181224\n",
      "Length of lyrics for John Lennon: 217553\n",
      "Length of lyrics for Udo Lindenberg: 483499\n",
      "Length of lyrics for Kraftklub: 130995\n",
      "Length of lyrics for Ed Sheeran: 457780\n",
      "Length of lyrics for Linkin Park: 429790\n",
      "Length of lyrics for Leoniden: 50243\n",
      "Length of lyrics for Von Wegen Lisbeth: 57584\n",
      "Length of lyrics for Green Day: 390562\n",
      "Length of lyrics for Wolfgang Petry: 300101\n",
      "Length of lyrics for Nena: 389777\n",
      "Length of all lyrics: 4981132\n"
     ]
    }
   ],
   "source": [
    "# Length of lyrics per artist\n",
    "all_lyrics_length = 0\n",
    "for file_path in file_paths:\n",
    "    with open(file_path, 'r') as file:\n",
    "        artist = json.load(file)\n",
    "        # length of all lyrics\n",
    "        lyrics_length = 0\n",
    "        for song in artist:\n",
    "            lyrics_length += len(song['lyrics'])\n",
    "\n",
    "        print(f'Length of lyrics for {artist[0][\"artist\"]}: {lyrics_length}')\n",
    "        all_lyrics_length += lyrics_length\n",
    "\n",
    "print(f'Length of all lyrics: {all_lyrics_length}')\n"
   ],
   "metadata": {
    "collapsed": false,
    "ExecuteTime": {
     "end_time": "2023-05-13T12:33:25.054568Z",
     "start_time": "2023-05-13T12:33:25.024859Z"
    }
   }
  },
  {
   "cell_type": "code",
   "execution_count": 12,
   "outputs": [
    {
     "data": {
      "text/plain": "49.81132"
     },
     "execution_count": 12,
     "metadata": {},
     "output_type": "execute_result"
    }
   ],
   "source": [
    "# AWS Comprehend Cost for sentiment analysis\n",
    "(all_lyrics_length / 100) * 0.001\n"
   ],
   "metadata": {
    "collapsed": false,
    "ExecuteTime": {
     "end_time": "2023-05-13T12:43:22.864091Z",
     "start_time": "2023-05-13T12:43:22.860586Z"
    }
   }
  },
  {
   "cell_type": "code",
   "execution_count": null,
   "outputs": [],
   "source": [],
   "metadata": {
    "collapsed": false
   }
  }
 ],
 "metadata": {
  "kernelspec": {
   "display_name": "Python 3",
   "language": "python",
   "name": "python3"
  },
  "language_info": {
   "codemirror_mode": {
    "name": "ipython",
    "version": 2
   },
   "file_extension": ".py",
   "mimetype": "text/x-python",
   "name": "python",
   "nbconvert_exporter": "python",
   "pygments_lexer": "ipython2",
   "version": "2.7.6"
  }
 },
 "nbformat": 4,
 "nbformat_minor": 0
}

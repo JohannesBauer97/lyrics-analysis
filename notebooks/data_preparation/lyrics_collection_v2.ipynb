{
 "cells": [
  {
   "cell_type": "markdown",
   "source": [
    "# Collecting song lyrics using Spotify and Genius API\n"
   ],
   "metadata": {
    "collapsed": false
   }
  },
  {
   "cell_type": "code",
   "execution_count": 1,
   "outputs": [
    {
     "name": "stdout",
     "output_type": "stream",
     "text": [
      "Requirement already satisfied: spotipy in /Users/joba/Documents/GitHub/lyrics-analysis/venv/lib/python3.10/site-packages (2.23.0)\r\n",
      "Requirement already satisfied: six>=1.15.0 in /Users/joba/Documents/GitHub/lyrics-analysis/venv/lib/python3.10/site-packages (from spotipy) (1.16.0)\r\n",
      "Requirement already satisfied: redis>=3.5.3 in /Users/joba/Documents/GitHub/lyrics-analysis/venv/lib/python3.10/site-packages (from spotipy) (4.5.5)\r\n",
      "Requirement already satisfied: urllib3>=1.26.0 in /Users/joba/Documents/GitHub/lyrics-analysis/venv/lib/python3.10/site-packages (from spotipy) (2.0.2)\r\n",
      "Requirement already satisfied: requests>=2.25.0 in /Users/joba/Documents/GitHub/lyrics-analysis/venv/lib/python3.10/site-packages (from spotipy) (2.30.0)\r\n",
      "Requirement already satisfied: async-timeout>=4.0.2 in /Users/joba/Documents/GitHub/lyrics-analysis/venv/lib/python3.10/site-packages (from redis>=3.5.3->spotipy) (4.0.2)\r\n",
      "Requirement already satisfied: certifi>=2017.4.17 in /Users/joba/Documents/GitHub/lyrics-analysis/venv/lib/python3.10/site-packages (from requests>=2.25.0->spotipy) (2023.5.7)\r\n",
      "Requirement already satisfied: charset-normalizer<4,>=2 in /Users/joba/Documents/GitHub/lyrics-analysis/venv/lib/python3.10/site-packages (from requests>=2.25.0->spotipy) (3.1.0)\r\n",
      "Requirement already satisfied: idna<4,>=2.5 in /Users/joba/Documents/GitHub/lyrics-analysis/venv/lib/python3.10/site-packages (from requests>=2.25.0->spotipy) (3.4)\r\n",
      "\r\n",
      "\u001B[1m[\u001B[0m\u001B[34;49mnotice\u001B[0m\u001B[1;39;49m]\u001B[0m\u001B[39;49m A new release of pip available: \u001B[0m\u001B[31;49m22.3.1\u001B[0m\u001B[39;49m -> \u001B[0m\u001B[32;49m23.1.2\u001B[0m\r\n",
      "\u001B[1m[\u001B[0m\u001B[34;49mnotice\u001B[0m\u001B[1;39;49m]\u001B[0m\u001B[39;49m To update, run: \u001B[0m\u001B[32;49mpip install --upgrade pip\u001B[0m\r\n"
     ]
    }
   ],
   "source": [
    "!pip install spotipy --upgrade\n"
   ],
   "metadata": {
    "collapsed": false,
    "ExecuteTime": {
     "end_time": "2023-05-13T13:07:00.449670Z",
     "start_time": "2023-05-13T13:06:58.841882Z"
    }
   }
  },
  {
   "cell_type": "code",
   "execution_count": 4,
   "outputs": [],
   "source": [
    "import spotipy\n",
    "from spotipy.oauth2 import SpotifyClientCredentials\n",
    "\n",
    "auth_manager = SpotifyClientCredentials(client_id='',\n",
    "                                        client_secret='')\n",
    "sp = spotipy.Spotify(auth_manager=auth_manager)\n"
   ],
   "metadata": {
    "collapsed": false,
    "ExecuteTime": {
     "end_time": "2023-05-13T13:40:02.293098Z",
     "start_time": "2023-05-13T13:40:02.290615Z"
    }
   }
  },
  {
   "cell_type": "code",
   "execution_count": 5,
   "outputs": [
    {
     "name": "stdout",
     "output_type": "stream",
     "text": [
      "{'external_urls': {'spotify': 'https://open.spotify.com/artist/3jOstUTkEu2JkjvRdBA5Gu'}, 'followers': {'href': None, 'total': 3087257}, 'genres': ['alternative rock', 'modern power pop', 'modern rock', 'permanent wave', 'rock'], 'href': 'https://api.spotify.com/v1/artists/3jOstUTkEu2JkjvRdBA5Gu', 'id': '3jOstUTkEu2JkjvRdBA5Gu', 'images': [{'height': 640, 'url': 'https://i.scdn.co/image/ab6761610000e5eb924930b587886dcd83802c7f', 'width': 640}, {'height': 320, 'url': 'https://i.scdn.co/image/ab67616100005174924930b587886dcd83802c7f', 'width': 320}, {'height': 160, 'url': 'https://i.scdn.co/image/ab6761610000f178924930b587886dcd83802c7f', 'width': 160}], 'name': 'Weezer', 'popularity': 73, 'type': 'artist', 'uri': 'spotify:artist:3jOstUTkEu2JkjvRdBA5Gu'}\n"
     ]
    }
   ],
   "source": [
    "urn = 'spotify:artist:3jOstUTkEu2JkjvRdBA5Gu'\n",
    "artist = sp.artist(urn)\n",
    "print(artist)\n"
   ],
   "metadata": {
    "collapsed": false,
    "ExecuteTime": {
     "end_time": "2023-05-13T13:40:04.548988Z",
     "start_time": "2023-05-13T13:40:04.127142Z"
    }
   }
  },
  {
   "cell_type": "markdown",
   "source": [
    "# Get Artist IDs"
   ],
   "metadata": {
    "collapsed": false
   }
  },
  {
   "cell_type": "code",
   "execution_count": 12,
   "outputs": [
    {
     "name": "stdout",
     "output_type": "stream",
     "text": [
      "1zwtew8BGPk66RKGQqtPCX Leoniden\n",
      "2Hkg1gn2Hpar1sVP8adtNp BRKN LOVE\n",
      "0MZ55DwuMQ1B2TXq9lcrE4 Kraftklub\n",
      "0r0R5nIjDY04TfxRM10Bcb Alligatoah\n",
      "2KEqzdPS7M5YwGmiuPTdr5 Rina Sawayama\n",
      "0JLbfIT1Z20raMAVYWtCD7 Wolfgang Petry\n",
      "3TVXtAsR1Inumwj472S9r4 Drake\n",
      "7iWcRnQMinCoV2u5ICgsW0 Udo Lindenberg\n",
      "6eUKZXaKkcviH0Ku9w2n3V Ed Sheeran\n",
      "0uNoScPvcAL4krqNZfeJBq Von Wegen Lisbeth\n",
      "7oPftvlwr6VrsViSDV7fJY Green Day\n",
      "6XyY86QOPPrYVGvF9ch6wz Linkin Park\n",
      "4x1nvY2FN8jxqAFA0DA02H John Lennon\n",
      "6Tz0QRoe083BcOo2YbG9lV Nena\n"
     ]
    }
   ],
   "source": [
    "artists_to_scrape = [\n",
    "    \"Leoniden\",\n",
    "    \"BRKN\",\n",
    "    \"Kraftklub\",\n",
    "    \"Alligatoah\",\n",
    "    \"RIN\",\n",
    "    \"Wolfgang Petry\",\n",
    "    \"Drake\",\n",
    "    \"Udo Lindenberg\",\n",
    "    \"Ed Sheeran\",\n",
    "    \"Von Wegen Lisbeth\",\n",
    "    \"Green Day\",\n",
    "    \"Linkin Park\",\n",
    "    \"John Lennon\",\n",
    "    \"Nena\"\n",
    "]\n",
    "\n",
    "for artist in artists_to_scrape:\n",
    "    results = sp.search(q=artist, limit=1, type='artist')\n",
    "    id = results['artists']['items'][0]['id']\n",
    "    name = results['artists']['items'][0]['name']\n",
    "    print(id, name)\n"
   ],
   "metadata": {
    "collapsed": false,
    "ExecuteTime": {
     "end_time": "2023-05-13T13:45:17.856845Z",
     "start_time": "2023-05-13T13:45:16.064963Z"
    }
   }
  },
  {
   "cell_type": "code",
   "execution_count": null,
   "outputs": [],
   "source": [],
   "metadata": {
    "collapsed": false
   }
  }
 ],
 "metadata": {
  "kernelspec": {
   "display_name": "Python 3",
   "language": "python",
   "name": "python3"
  },
  "language_info": {
   "codemirror_mode": {
    "name": "ipython",
    "version": 2
   },
   "file_extension": ".py",
   "mimetype": "text/x-python",
   "name": "python",
   "nbconvert_exporter": "python",
   "pygments_lexer": "ipython2",
   "version": "2.7.6"
  }
 },
 "nbformat": 4,
 "nbformat_minor": 0
}

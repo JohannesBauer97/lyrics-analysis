{
 "cells": [
  {
   "cell_type": "markdown",
   "source": [
    "# Lyrics Processing\n",
    "Extracting and processing the scraped raw lyrics data."
   ],
   "metadata": {
    "collapsed": false
   }
  },
  {
   "cell_type": "markdown",
   "source": [
    "## Importing Libraries\n"
   ],
   "metadata": {
    "collapsed": false
   }
  },
  {
   "cell_type": "code",
   "execution_count": 14,
   "outputs": [],
   "source": [
    "import json\n",
    "import os\n",
    "import re"
   ],
   "metadata": {
    "collapsed": false,
    "ExecuteTime": {
     "end_time": "2023-05-12T13:06:15.383493Z",
     "start_time": "2023-05-12T13:06:15.377934Z"
    }
   }
  },
  {
   "cell_type": "markdown",
   "source": [
    "## Defining Functions"
   ],
   "metadata": {
    "collapsed": false
   }
  },
  {
   "cell_type": "code",
   "execution_count": 31,
   "outputs": [],
   "source": [
    "def extract_song_data(raw_lyrics):\n",
    "    \"\"\"\n",
    "    Extracts the song data from the raw lyrics data.\n",
    "\n",
    "    Parameters\n",
    "    ----------\n",
    "    raw_lyrics : dict\n",
    "        The raw lyrics data.\n",
    "\n",
    "    Returns\n",
    "    -------\n",
    "    extracted_song_data : list\n",
    "        A list of dictionaries containing the song data.\n",
    "    \"\"\"\n",
    "    songs = raw_lyrics['songs']\n",
    "    extracted_song_data = []\n",
    "    for song in songs:\n",
    "        title = song['title']\n",
    "        language = song['language']\n",
    "        release_date = song['release_date']\n",
    "        artist = song['artist']\n",
    "\n",
    "        try:\n",
    "            album_name = song['album']['name']\n",
    "        except:\n",
    "            album_name = \"\"\n",
    "\n",
    "        lyrics = song['lyrics']\n",
    "\n",
    "        # At the beginning of lyrics can be \"1 Contributor\" or \"2 Contributors\" or \"x Contributors\"\n",
    "        # Remove this using regex and replace with empty string\n",
    "        regex = r\"(\\d Contributors?)\"\n",
    "        lyrics = re.sub(regex, \"\", lyrics)\n",
    "\n",
    "        # If the last 5 chars is \"Embed\" remove it\n",
    "        if lyrics[-5:] == \"Embed\":\n",
    "            lyrics = lyrics[:-5]\n",
    "\n",
    "        # At the beginning of lyrics can be the title and the keyword \"Lyrics\"\n",
    "        # Remove this using regex and replace with empty string\n",
    "        regex = r\"(.* Lyrics)\"\n",
    "        lyrics = re.sub(regex, \"\", lyrics)\n",
    "\n",
    "        # Remove all \\n from the beginning of the string\n",
    "        lyrics = lyrics.lstrip('\\n')\n",
    "\n",
    "        data_dict = {\n",
    "            'title': title,\n",
    "            'language': language,\n",
    "            'release_date': release_date,\n",
    "            'artist': artist,\n",
    "            'album_name': album_name,\n",
    "            'lyrics': lyrics\n",
    "        }\n",
    "\n",
    "        extracted_song_data.append(data_dict)\n",
    "\n",
    "    return extracted_song_data\n",
    "\n",
    "def store_to_processed(filename, data, subfolder = None):\n",
    "    \"\"\"\n",
    "    Stores the processed data to the processed folder.\n",
    "\n",
    "    Parameters\n",
    "    ----------\n",
    "    filename : str\n",
    "        The filename of the processed data.\n",
    "    data : list\n",
    "        The processed data.\n",
    "    \"\"\"\n",
    "    # Processed folder\n",
    "    if subfolder:\n",
    "        # Create subfolder if it does not exist\n",
    "        if not os.path.exists(os.path.abspath(os.path.join(os.getcwd(), '..', '..', 'data', 'processed', subfolder))):\n",
    "            os.makedirs(os.path.abspath(os.path.join(os.getcwd(), '..', '..', 'data', 'processed', subfolder)))\n",
    "        full_filepath = os.path.abspath(os.path.join(os.getcwd(), '..', '..', 'data', 'processed', subfolder, filename + '.json'))\n",
    "    else:\n",
    "        full_filepath = os.path.abspath(os.path.join(os.getcwd(), '..', '..', 'data', 'processed', filename + '.json'))\n",
    "\n",
    "    # Object to JSON\n",
    "    json_data = json.dumps(data, ensure_ascii=False, indent=4)\n",
    "\n",
    "    # Write to file encoded as UTF-8\n",
    "    with open(full_filepath, \"w\", encoding=\"utf-8\") as file:\n",
    "        file.write(json_data)\n",
    "\n",
    "\n",
    "    return\n"
   ],
   "metadata": {
    "collapsed": false,
    "ExecuteTime": {
     "end_time": "2023-05-12T13:22:58.127124Z",
     "start_time": "2023-05-12T13:22:58.124905Z"
    }
   }
  },
  {
   "cell_type": "markdown",
   "source": [
    "## Processing 1\n",
    "Parsing the raw data and extracting only relevant data.\n"
   ],
   "metadata": {
    "collapsed": false
   }
  },
  {
   "cell_type": "code",
   "execution_count": 32,
   "outputs": [],
   "source": [
    "# Get path to raw lyrics data folder\n",
    "current_dir = os.getcwd()\n",
    "raw_genius_lyrics_folder = os.path.abspath(os.path.join(current_dir, '..', '..', 'data', 'raw', 'genius_lyrics'))\n",
    "\n",
    "# Get list of files in raw lyrics data folder\n",
    "raw_genius_lyrics_files = os.listdir(raw_genius_lyrics_folder)\n",
    "\n",
    "for file in raw_genius_lyrics_files:\n",
    "    # Load file\n",
    "    with open(os.path.join(raw_genius_lyrics_folder, file), 'r') as f:\n",
    "        song_data = extract_song_data(json.load(f))\n",
    "        store_to_processed(song_data[0]['artist'], song_data, subfolder = 'processing1')\n"
   ],
   "metadata": {
    "collapsed": false,
    "ExecuteTime": {
     "end_time": "2023-05-12T13:22:59.771932Z",
     "start_time": "2023-05-12T13:22:58.980542Z"
    }
   }
  },
  {
   "cell_type": "code",
   "execution_count": null,
   "outputs": [],
   "source": [],
   "metadata": {
    "collapsed": false
   }
  }
 ],
 "metadata": {
  "kernelspec": {
   "display_name": "Python 3",
   "language": "python",
   "name": "python3"
  },
  "language_info": {
   "codemirror_mode": {
    "name": "ipython",
    "version": 2
   },
   "file_extension": ".py",
   "mimetype": "text/x-python",
   "name": "python",
   "nbconvert_exporter": "python",
   "pygments_lexer": "ipython2",
   "version": "2.7.6"
  }
 },
 "nbformat": 4,
 "nbformat_minor": 0
}

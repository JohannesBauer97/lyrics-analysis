{
 "cells": [
  {
   "cell_type": "markdown",
   "source": [
    "# Utils\n"
   ],
   "metadata": {
    "collapsed": false
   }
  },
  {
   "cell_type": "markdown",
   "source": [
    "## Generate README.md"
   ],
   "metadata": {
    "collapsed": false
   }
  },
  {
   "cell_type": "code",
   "execution_count": 4,
   "outputs": [
    {
     "name": "stdout",
     "output_type": "stream",
     "text": [
      "![](data/output/average_length_of_lyrics_per_song_per_artist.png)\n",
      "![](data/output/kraftklub.png)\n",
      "![](data/output/length_lyrics_per_artist.png)\n",
      "![](data/output/number_albums_per_artist.png)\n",
      "![](data/output/number_of_songs_per_artist.png)\n",
      "![](data/output/number_songs_and_length_lyrics_per_artist.png)\n",
      "![](data/output/release_dates_all_songs.png)\n",
      "![](data/output/release_dates_alligatoah.png)\n",
      "![](data/output/release_dates_brkn.png)\n",
      "![](data/output/release_dates_drake.png)\n",
      "![](data/output/release_dates_edsheeran.png)\n",
      "![](data/output/release_dates_greenday.png)\n",
      "![](data/output/release_dates_johnlennon.png)\n",
      "![](data/output/release_dates_leoniden.png)\n",
      "![](data/output/release_dates_linkinpark.png)\n",
      "![](data/output/release_dates_nena.png)\n",
      "![](data/output/release_dates_rin.png)\n",
      "![](data/output/release_dates_udolindenberg.png)\n",
      "![](data/output/release_dates_vonwegenlisbeth.png)\n",
      "![](data/output/release_dates_wolfgangpetry.png)\n",
      "![](data/output/wordcloud_All.png)\n",
      "![](data/output/wordcloud_Alligatoah.png)\n",
      "![](data/output/wordcloud_BRKN.png)\n",
      "![](data/output/wordcloud_Drake.png)\n",
      "![](data/output/wordcloud_EdSheeran.png)\n",
      "![](data/output/wordcloud_Greenday.png)\n",
      "![](data/output/wordcloud_JohnLennon.png)\n",
      "![](data/output/wordcloud_Kraftklub.png)\n",
      "![](data/output/wordcloud_Leoniden.png)\n",
      "![](data/output/wordcloud_LinkinPark.png)\n",
      "![](data/output/wordcloud_Nena.png)\n",
      "![](data/output/wordcloud_RIN.png)\n",
      "![](data/output/wordcloud_UdoLindenberg.png)\n",
      "![](data/output/wordcloud_VonWegenListbeth.png)\n",
      "![](data/output/wordcloud_WolfgangPetry.png)\n"
     ]
    }
   ],
   "source": [
    "import os\n",
    "\n",
    "output_images = os.listdir('./../data/output')\n",
    "output_images = [f for f in output_images if f.endswith('.png')]\n",
    "output_images.sort()\n",
    "\n",
    "# create markdown image links\n",
    "output_images = ['![](data/output/' + f + ')' for f in output_images]\n",
    "\n",
    "for markdown_image in output_images:\n",
    "    print(markdown_image)\n"
   ],
   "metadata": {
    "collapsed": false,
    "ExecuteTime": {
     "end_time": "2023-05-22T08:07:55.235576Z",
     "start_time": "2023-05-22T08:07:55.233693Z"
    }
   }
  },
  {
   "cell_type": "code",
   "execution_count": null,
   "outputs": [],
   "source": [],
   "metadata": {
    "collapsed": false
   }
  }
 ],
 "metadata": {
  "kernelspec": {
   "display_name": "Python 3",
   "language": "python",
   "name": "python3"
  },
  "language_info": {
   "codemirror_mode": {
    "name": "ipython",
    "version": 2
   },
   "file_extension": ".py",
   "mimetype": "text/x-python",
   "name": "python",
   "nbconvert_exporter": "python",
   "pygments_lexer": "ipython2",
   "version": "2.7.6"
  }
 },
 "nbformat": 4,
 "nbformat_minor": 0
}

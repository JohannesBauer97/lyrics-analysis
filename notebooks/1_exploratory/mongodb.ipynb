{
 "cells": [
  {
   "cell_type": "markdown",
   "source": [
    "# Upload the data to MongoDB and make them available for Tableau\n",
    "## Requirements"
   ],
   "metadata": {
    "collapsed": false
   }
  },
  {
   "cell_type": "code",
   "execution_count": 1,
   "outputs": [
    {
     "name": "stdout",
     "output_type": "stream",
     "text": [
      "Collecting pymongo\r\n",
      "  Downloading pymongo-4.3.3-cp310-cp310-macosx_10_9_universal2.whl (413 kB)\r\n",
      "\u001B[2K     \u001B[90m━━━━━━━━━━━━━━━━━━━━━━━━━━━━━━━━━━━━━\u001B[0m \u001B[32m413.2/413.2 kB\u001B[0m \u001B[31m487.7 kB/s\u001B[0m eta \u001B[36m0:00:00\u001B[0ma \u001B[36m0:00:01\u001B[0m\r\n",
      "\u001B[?25hCollecting dnspython<3.0.0,>=1.16.0\r\n",
      "  Downloading dnspython-2.3.0-py3-none-any.whl (283 kB)\r\n",
      "\u001B[2K     \u001B[90m━━━━━━━━━━━━━━━━━━━━━━━━━━━━━━━━━━━━━━━\u001B[0m \u001B[32m283.7/283.7 kB\u001B[0m \u001B[31m3.3 MB/s\u001B[0m eta \u001B[36m0:00:00\u001B[0ma \u001B[36m0:00:01\u001B[0m\r\n",
      "\u001B[?25hInstalling collected packages: dnspython, pymongo\r\n",
      "Successfully installed dnspython-2.3.0 pymongo-4.3.3\r\n",
      "\r\n",
      "\u001B[1m[\u001B[0m\u001B[34;49mnotice\u001B[0m\u001B[1;39;49m]\u001B[0m\u001B[39;49m A new release of pip available: \u001B[0m\u001B[31;49m22.3.1\u001B[0m\u001B[39;49m -> \u001B[0m\u001B[32;49m23.1.2\u001B[0m\r\n",
      "\u001B[1m[\u001B[0m\u001B[34;49mnotice\u001B[0m\u001B[1;39;49m]\u001B[0m\u001B[39;49m To update, run: \u001B[0m\u001B[32;49mpip install --upgrade pip\u001B[0m\r\n"
     ]
    }
   ],
   "source": [
    "!pip install pymongo\n"
   ],
   "metadata": {
    "collapsed": false,
    "ExecuteTime": {
     "end_time": "2023-05-14T14:21:27.536957Z",
     "start_time": "2023-05-14T14:21:22.004039Z"
    }
   }
  },
  {
   "cell_type": "code",
   "execution_count": 6,
   "outputs": [],
   "source": [
    "import pymongo\n",
    "import os\n",
    "import json"
   ],
   "metadata": {
    "collapsed": false,
    "ExecuteTime": {
     "end_time": "2023-05-14T14:27:25.390972Z",
     "start_time": "2023-05-14T14:27:25.386003Z"
    }
   }
  },
  {
   "cell_type": "markdown",
   "source": [
    "## Upload the data to MongoDB\n"
   ],
   "metadata": {
    "collapsed": false
   }
  },
  {
   "cell_type": "code",
   "execution_count": 16,
   "outputs": [
    {
     "name": "stdout",
     "output_type": "stream",
     "text": [
      "File /Users/joba/Documents/GitHub/lyrics-analysis/data/processed/processing2/Drake.json uploaded to MongoDB\n",
      "File /Users/joba/Documents/GitHub/lyrics-analysis/data/processed/processing2/Alligatoah.json uploaded to MongoDB\n",
      "File /Users/joba/Documents/GitHub/lyrics-analysis/data/processed/processing2/BRKN.json uploaded to MongoDB\n",
      "File /Users/joba/Documents/GitHub/lyrics-analysis/data/processed/processing2/RIN.json uploaded to MongoDB\n",
      "File /Users/joba/Documents/GitHub/lyrics-analysis/data/processed/processing2/John Lennon.json uploaded to MongoDB\n",
      "File /Users/joba/Documents/GitHub/lyrics-analysis/data/processed/processing2/Udo Lindenberg.json uploaded to MongoDB\n",
      "File /Users/joba/Documents/GitHub/lyrics-analysis/data/processed/processing2/Kraftklub.json uploaded to MongoDB\n",
      "File /Users/joba/Documents/GitHub/lyrics-analysis/data/processed/processing2/Ed Sheeran.json uploaded to MongoDB\n",
      "File /Users/joba/Documents/GitHub/lyrics-analysis/data/processed/processing2/Linkin Park.json uploaded to MongoDB\n",
      "File /Users/joba/Documents/GitHub/lyrics-analysis/data/processed/processing2/Leoniden.json uploaded to MongoDB\n",
      "File /Users/joba/Documents/GitHub/lyrics-analysis/data/processed/processing2/Von Wegen Lisbeth.json uploaded to MongoDB\n",
      "File /Users/joba/Documents/GitHub/lyrics-analysis/data/processed/processing2/Green Day.json uploaded to MongoDB\n",
      "File /Users/joba/Documents/GitHub/lyrics-analysis/data/processed/processing2/Wolfgang Petry.json uploaded to MongoDB\n",
      "File /Users/joba/Documents/GitHub/lyrics-analysis/data/processed/processing2/Nena.json uploaded to MongoDB\n"
     ]
    }
   ],
   "source": [
    "# Connect to MongoDB using username and password\n",
    "client = pymongo.MongoClient(\"mongodb://root:<password>@serverlein.de:27017/\")\n",
    "# Create database\n",
    "db = client[\"lyrics\"]\n",
    "# Create collection\n",
    "collection = db[\"lyrics\"]\n",
    "\n",
    "# Getting the files paths\n",
    "source_folder = os.path.abspath(os.path.join(os.getcwd(), '..', '..', 'data', 'processed', 'processing2'))\n",
    "source_files = os.listdir(source_folder)\n",
    "source_file_paths = [os.path.join(source_folder, file) for file in source_files]\n",
    "\n",
    "# Load the data to MongoDB\n",
    "for file_path in source_file_paths:\n",
    "    with open(file_path, 'r') as file:\n",
    "        data = json.load(file)\n",
    "\n",
    "        document = {\n",
    "            'artist': data[0]['artist'],\n",
    "            'songs': data\n",
    "        }\n",
    "\n",
    "        collection.insert_one(document)\n",
    "        print(f\"File {file_path} uploaded to MongoDB\")\n"
   ],
   "metadata": {
    "collapsed": false,
    "ExecuteTime": {
     "end_time": "2023-05-14T14:46:29.543545Z",
     "start_time": "2023-05-14T14:46:28.190900Z"
    }
   }
  },
  {
   "cell_type": "code",
   "execution_count": null,
   "outputs": [],
   "source": [],
   "metadata": {
    "collapsed": false
   }
  }
 ],
 "metadata": {
  "kernelspec": {
   "display_name": "Python 3",
   "language": "python",
   "name": "python3"
  },
  "language_info": {
   "codemirror_mode": {
    "name": "ipython",
    "version": 2
   },
   "file_extension": ".py",
   "mimetype": "text/x-python",
   "name": "python",
   "nbconvert_exporter": "python",
   "pygments_lexer": "ipython2",
   "version": "2.7.6"
  }
 },
 "nbformat": 4,
 "nbformat_minor": 0
}
